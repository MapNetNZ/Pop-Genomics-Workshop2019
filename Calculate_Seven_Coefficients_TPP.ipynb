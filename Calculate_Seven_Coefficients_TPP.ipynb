{
 "cells": [
  {
   "cell_type": "markdown",
   "metadata": {},
   "source": [
    "# Reproduce 7 Coefficients Workflow for TPP\n",
    "\n",
    "\n",
    "- Using data from DOI https://doi.org/10.5281/zenodo.2566534\n",
    "- downloaded as DownloadFromZenodo.ipynb"
   ]
  },
  {
   "cell_type": "markdown",
   "metadata": {},
   "source": [
    "## Check the bamfiles\n",
    "\n",
    "> no news is good news"
   ]
  },
  {
   "cell_type": "code",
   "execution_count": 3,
   "metadata": {},
   "outputs": [
    {
     "name": "stdout",
     "output_type": "stream",
     "text": [
      "/powerplant/workspace/cfljam/Pop-Genomics-Workshop2019\n"
     ]
    }
   ],
   "source": [
    "cd bamfiles\n",
    "md5sum --quiet -c md5sums.txt\n",
    "cd -"
   ]
  },
  {
   "cell_type": "markdown",
   "metadata": {},
   "source": [
    "## Create a bamfile list\n",
    "\n",
    "- update the metadata file to right path\n",
    "- this is sorted by  Location field"
   ]
  },
  {
   "cell_type": "code",
   "execution_count": 22,
   "metadata": {},
   "outputs": [],
   "source": [
    "sed -i  's/\\/output\\/genomic\\/insect\\/Bactericera\\/cockerelli\\/BAM/bamfiles/g' 190122_pop_subset_metadata.tsv "
   ]
  },
  {
   "cell_type": "code",
   "execution_count": 24,
   "metadata": {},
   "outputs": [
    {
     "name": "stdout",
     "output_type": "stream",
     "text": [
      "Unique_sample_ID\tLocation2\tCollection_Group\tSex\tbam_path\n",
      "0002_140826_Hon01_F\tSinuapa\tHonduras_1\tF\tbamfiles/season1_trim_C732HANXX-1587-01-25-1_L007_map_190110_2_RG.bam\n",
      "0003_140826_Hon02_M\tSinuapa\tHonduras_1\tM\tbamfiles/season1_trim_C732HANXX-1587-02-25-1_L007_map_190110_2_RG.bam\n",
      "0004_140826_Hon02_F\tSinuapa\tHonduras_1\tF\tbamfiles/season1_trim_C732HANXX-1587-03-25-1_L007_map_190110_2_RG.bam\n",
      "0005_140826_Hon03_M\tSinuapa\tHonduras_1\tM\tbamfiles/season1_trim_C732HANXX-1587-04-25-1_L007_map_190110_2_RG.bam\n",
      "0006_140826_Hon03_F\tSinuapa\tHonduras_1\tF\tbamfiles/season1_trim_C732HANXX-1587-05-25-1_L007_map_190110_2_RG.bam\n",
      "0018_140826_Hon09_F\tLa_Esperanza\tHonduras_2\tF\tbamfiles/season1_trim_C732HANXX-1587-06-25-1_L007_map_190110_2_RG.bam\n",
      "0023_140930_Hon01_F\tSinuapa\tHonduras_1\tF\tbamfiles/season1_trim_C732HANXX-1587-07-25-1_L007_map_190110_2_RG.bam\n",
      "0025_140930_Hon02_F\tSinuapa\tHonduras_1\tF\tbamfiles/season1_trim_C732HANXX-1587-08-25-1_L007_map_190110_2_RG.bam\n",
      "0026_140930_Hon02_M\tSinuapa\tHonduras_1\tM\tbamfiles/season1_trim_C732HANXX-1587-09-25-1_L007_map_190110_2_RG.bam\n"
     ]
    }
   ],
   "source": [
    "head  190122_pop_subset_metadata.tsv"
   ]
  },
  {
   "cell_type": "markdown",
   "metadata": {},
   "source": [
    "## Create a bamfile list"
   ]
  },
  {
   "cell_type": "code",
   "execution_count": 27,
   "metadata": {},
   "outputs": [
    {
     "name": "stdout",
     "output_type": "stream",
     "text": [
      "bamfiles/season1_trim_C732HANXX-1587-01-25-1_L007_map_190110_2_RG.bam\n",
      "bamfiles/season1_trim_C732HANXX-1587-02-25-1_L007_map_190110_2_RG.bam\n",
      "bamfiles/season1_trim_C732HANXX-1587-03-25-1_L007_map_190110_2_RG.bam\n",
      "bamfiles/season1_trim_C732HANXX-1587-04-25-1_L007_map_190110_2_RG.bam\n",
      "bamfiles/season1_trim_C732HANXX-1587-05-25-1_L007_map_190110_2_RG.bam\n",
      "bamfiles/season1_trim_C732HANXX-1587-06-25-1_L007_map_190110_2_RG.bam\n",
      "bamfiles/season1_trim_C732HANXX-1587-07-25-1_L007_map_190110_2_RG.bam\n",
      "bamfiles/season1_trim_C732HANXX-1587-08-25-1_L007_map_190110_2_RG.bam\n",
      "bamfiles/season1_trim_C732HANXX-1587-09-25-1_L007_map_190110_2_RG.bam\n",
      "bamfiles/season1_trim_C732HANXX-1587-10-25-1_L007_map_190110_2_RG.bam\n",
      "awk: (FILENAME=190122_pop_subset_metadata.tsv FNR=144) warning: error writing standard output (Broken pipe)\n"
     ]
    }
   ],
   "source": [
    "awk 'NR > 1 {print $5}'  190122_pop_subset_metadata.tsv | head"
   ]
  }
 ],
 "metadata": {
  "kernelspec": {
   "display_name": "Bash",
   "language": "bash",
   "name": "bash"
  },
  "language_info": {
   "codemirror_mode": "shell",
   "file_extension": ".sh",
   "mimetype": "text/x-sh",
   "name": "bash"
  }
 },
 "nbformat": 4,
 "nbformat_minor": 2
}
