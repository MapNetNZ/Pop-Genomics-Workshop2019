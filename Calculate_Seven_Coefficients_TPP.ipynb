{
 "cells": [
  {
   "cell_type": "markdown",
   "metadata": {},
   "source": [
    "# Reproduce 7 Coefficients Workflow for TPP\n",
    "\n",
    "\n",
    "- Using data from DOI https://doi.org/10.5281/zenodo.2566534\n",
    "- downloaded as DownloadFromZenodo.ipynb"
   ]
  },
  {
   "cell_type": "markdown",
   "metadata": {},
   "source": [
    "## Check the bamfiles\n",
    "\n",
    "> no news is good news"
   ]
  },
  {
   "cell_type": "code",
   "execution_count": 3,
   "metadata": {},
   "outputs": [
    {
     "name": "stdout",
     "output_type": "stream",
     "text": [
      "/powerplant/workspace/cfljam/Pop-Genomics-Workshop2019\n"
     ]
    }
   ],
   "source": [
    "cd bamfiles\n",
    "md5sum --quiet -c md5sums.txt\n",
    "cd -"
   ]
  },
  {
   "cell_type": "code",
   "execution_count": null,
   "metadata": {
    "collapsed": true
   },
   "outputs": [],
   "source": []
  }
 ],
 "metadata": {
  "kernelspec": {
   "display_name": "Bash",
   "language": "bash",
   "name": "bash"
  },
  "language_info": {
   "codemirror_mode": "shell",
   "file_extension": ".sh",
   "mimetype": "text/x-sh",
   "name": "bash"
  }
 },
 "nbformat": 4,
 "nbformat_minor": 2
}
