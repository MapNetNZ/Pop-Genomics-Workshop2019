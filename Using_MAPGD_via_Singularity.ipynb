{
 "cells": [
  {
   "cell_type": "markdown",
   "metadata": {},
   "source": [
    "# HOWTO Use  MAPGD with Singularity\n",
    "\n",
    "###  John McCallum https://github.com/cfljam Eric Bergueno https://github.com/eburgueno Tejas Sevak https://github.com/tej4pnfr\n"
   ]
  },
  {
   "cell_type": "markdown",
   "metadata": {},
   "source": [
    "- Singularity https://www.sylabs.io/singularity/ allows users to run containerised applications as themselves **without** any risky elevation of permissions \n",
    "- Applications run in their own custom virtual environment that can be downloaded as a single file\n",
    "- Once someone has generated a working recipe for a tool anyone else can reproduce and run it \n",
    "\n",
    "\n",
    "- For installation details including OSX and PC see https://www.sylabs.io/guides/3.0/user-guide/installation.html#\n",
    "- This example is run under Linux. \n",
    "- If you are working on Linux and dont have admin rights consider using conda to install it into a custom environment\n",
    "    - see https://anaconda.org/conda-forge/singularity\n",
    "    \n",
    "### Links\n",
    "- recipe https://github.com/powerPlant/mapgd-srf\n",
    "- containers https://www.singularity-hub.org/collections/2319"
   ]
  },
  {
   "cell_type": "markdown",
   "metadata": {},
   "source": [
    "## Load up Singularity\n",
    "\n",
    "- this isnt the latest but will do the job\n",
    "- load up as a Linux module"
   ]
  },
  {
   "cell_type": "code",
   "execution_count": 1,
   "metadata": {
    "collapsed": true
   },
   "outputs": [],
   "source": [
    "module load singularity"
   ]
  },
  {
   "cell_type": "code",
   "execution_count": 2,
   "metadata": {},
   "outputs": [
    {
     "name": "stdout",
     "output_type": "stream",
     "text": [
      "/software/OSutils/singularity-2.5.1/bin/singularity\n"
     ]
    }
   ],
   "source": [
    "which singularity"
   ]
  },
  {
   "cell_type": "code",
   "execution_count": 3,
   "metadata": {},
   "outputs": [
    {
     "name": "stdout",
     "output_type": "stream",
     "text": [
      "Increasing verbosity level (2)\n",
      "Singularity version: 2.5.1-dist\n",
      "USAGE: singularity [global options...] <command> [command options...] ...\n",
      "\n",
      "GLOBAL OPTIONS:\n",
      "    -d|--debug    Print debugging information\n",
      "    -h|--help     Display usage summary\n",
      "    -s|--silent   Only print errors\n",
      "    -q|--quiet    Suppress all normal output\n",
      "       --version  Show application version\n",
      "    -v|--verbose  Increase verbosity +1\n",
      "    -x|--sh-debug Print shell wrapper debugging information\n",
      "\n",
      "GENERAL COMMANDS:\n",
      "    help       Show additional help for a command or container                  \n",
      "    selftest   Run some self tests for singularity install                      \n",
      "\n",
      "CONTAINER USAGE COMMANDS:\n",
      "    exec       Execute a command within container                               \n",
      "    run        Launch a runscript within container                              \n",
      "    shell      Run a Bourne shell within container                              \n",
      "    test       Launch a testscript within container                             \n",
      "\n",
      "CONTAINER MANAGEMENT COMMANDS:\n",
      "    apps       List available apps within a container                           \n",
      "    bootstrap  *Deprecated* use build instead                                   \n",
      "    build      Build a new Singularity container                                \n",
      "    check      Perform container lint checks                                    \n",
      "    inspect    Display container's metadata                                     \n",
      "    mount      Mount a Singularity container image                              \n",
      "    pull       Pull a Singularity/Docker container to $PWD                      \n",
      "\n",
      "COMMAND GROUPS:\n",
      "    image      Container image command group                                    \n",
      "    instance   Persistent instance command group                                \n",
      "\n",
      "\n",
      "CONTAINER USAGE OPTIONS:\n",
      "    see singularity help <command>\n",
      "\n",
      "For any additional help or support visit the Singularity\n",
      "website: http://singularity.lbl.gov/\n",
      "\n"
     ]
    }
   ],
   "source": [
    "singularity -v"
   ]
  },
  {
   "cell_type": "markdown",
   "metadata": {},
   "source": [
    "## Pull the Container"
   ]
  },
  {
   "cell_type": "code",
   "execution_count": 4,
   "metadata": {},
   "outputs": [
    {
     "name": "stdout",
     "output_type": "stream",
     "text": [
      "Progress |===================================| 100.0% \n",
      "Done. Container is at: /powerplant/workspace/cfljam/Pop-Genomics-Workshop2019/powerPlant-mapgd-srf-master-latest.simg\n"
     ]
    }
   ],
   "source": [
    "singularity pull shub://powerPlant/mapgd-srf"
   ]
  },
  {
   "cell_type": "markdown",
   "metadata": {},
   "source": [
    "## Run It"
   ]
  },
  {
   "cell_type": "code",
   "execution_count": 5,
   "metadata": {},
   "outputs": [
    {
     "name": "stdout",
     "output_type": "stream",
     "text": [
      "usage: \u001b[1mmapgd\u001b[0m \u001b[4mCOMMAND\u001b[0m [\u001b[4mOPTIONS\u001b[0m]\n",
      "Try 'mapgd --help' for more information.\n"
     ]
    }
   ],
   "source": [
    "singularity run ./powerPlant-mapgd-srf-master-latest.simg"
   ]
  },
  {
   "cell_type": "code",
   "execution_count": 6,
   "metadata": {},
   "outputs": [
    {
     "name": "stdout",
     "output_type": "stream",
     "text": [
      "usage: \u001b[1mmapgd\u001b[0m \u001b[4mCOMMAND\u001b[0m [\u001b[4mOPTIONS\u001b[0m]\n",
      "mapgd version 0.4.38 written by Matthew Ackerman, Bernard Haubold, Michael\n",
      "Lynch, and Takahiro Maruki.\n",
      "A program for maximum-likelihood analysis of population genomic data. Please\n",
      "direct questions to matthew.s.ackerman@gmail.com\n",
      "\n",
      "Commands:\n",
      "  allele\t\tEstimates allele frequencies using individual data\n",
      "  fastview\t\tQuickly displays contents of a file\n",
      "  filter\t\tFilter sites in '.map' files\n",
      "  filterpool\t\tFilter sites in '.pol' files\n",
      "  filtergcf\t\tFilter sites in '.gcf' files\n",
      "  genotype\t\tCalculate genotype probabilities for individuals\n",
      "  linkage\t\tEstimates linkage disequilibrium between loci\n",
      "  pool\t\t\tEstimates allele frequencies using pooled data\n",
      "  proview\t\tPrints data in the '.pro' file quartet format\n",
      "  relatedness\t\tEstimates the pairwise relatedness of individuals\n",
      "  reltest\t\tTest for sig dif between relatedness estimates\n",
      "  sam2idx\t\tReformats a sam header file to a idx file\n",
      "  keyinfo\t\tDisplays information regarding keys (i.e. column names)\n",
      "  writevcf\t\tPrints as a vcf file\n",
      "  writevcf2\t\tPrints as a vcf file\n",
      "  readvcf\t\tReads a vcf file\n",
      "  readbed\t\tReads a bed file\n",
      "  readphen\t\tReads plink's pheno file\n",
      "  help\t\t\tPrints helpful information\n",
      "  read\t\t\tReads data from the SQL database\n",
      "  write\t\t\tWrites data to the SQL database\n",
      "Options:\n",
      "Flags:\n",
      "  -a, --avail\t\tPrints a list of available commands\n",
      "  -O, --opts\t\tPrints a list of available options\n",
      "  -h, --help\t\tPrints this message\n",
      "  -v, --version\t\tPrints the program version\n",
      "\n",
      " '\u001b[1mmapgd help\u001b[0m \u001b[4mCOMMAND\u001b[0m' will print the manual page for that\n",
      "command, e.g. \u001b[1mmapdg help genotype\u001b[0m will show general information for the\n",
      "genotype command. \u001b[1mmapgd help\u001b[0m \u001b[4mCOLUMN NAME\u001b[0m will give information\n",
      "about the column names that appear in the first two lines of files.\n"
     ]
    }
   ],
   "source": [
    "singularity run ./powerPlant-mapgd-srf-master-latest.simg -h"
   ]
  },
  {
   "cell_type": "markdown",
   "metadata": {},
   "source": [
    "## We Can Alias this Command \n",
    "\n",
    "so its just like a system install"
   ]
  },
  {
   "cell_type": "code",
   "execution_count": 9,
   "metadata": {
    "collapsed": true
   },
   "outputs": [],
   "source": [
    "alias mapgd='singularity run ./powerPlant-mapgd-srf-master-latest.simg'"
   ]
  },
  {
   "cell_type": "code",
   "execution_count": 10,
   "metadata": {},
   "outputs": [
    {
     "name": "stdout",
     "output_type": "stream",
     "text": [
      "usage: \u001b[1mmapgd\u001b[0m \u001b[4mCOMMAND\u001b[0m [\u001b[4mOPTIONS\u001b[0m]\n",
      "mapgd version 0.4.38 written by Matthew Ackerman, Bernard Haubold, Michael\n",
      "Lynch, and Takahiro Maruki.\n",
      "A program for maximum-likelihood analysis of population genomic data. Please\n",
      "direct questions to matthew.s.ackerman@gmail.com\n",
      "\n",
      "Commands:\n",
      "  allele\t\tEstimates allele frequencies using individual data\n",
      "  fastview\t\tQuickly displays contents of a file\n",
      "  filter\t\tFilter sites in '.map' files\n",
      "  filterpool\t\tFilter sites in '.pol' files\n",
      "  filtergcf\t\tFilter sites in '.gcf' files\n",
      "  genotype\t\tCalculate genotype probabilities for individuals\n",
      "  linkage\t\tEstimates linkage disequilibrium between loci\n",
      "  pool\t\t\tEstimates allele frequencies using pooled data\n",
      "  proview\t\tPrints data in the '.pro' file quartet format\n",
      "  relatedness\t\tEstimates the pairwise relatedness of individuals\n",
      "  reltest\t\tTest for sig dif between relatedness estimates\n",
      "  sam2idx\t\tReformats a sam header file to a idx file\n",
      "  keyinfo\t\tDisplays information regarding keys (i.e. column names)\n",
      "  writevcf\t\tPrints as a vcf file\n",
      "  writevcf2\t\tPrints as a vcf file\n",
      "  readvcf\t\tReads a vcf file\n",
      "  readbed\t\tReads a bed file\n",
      "  readphen\t\tReads plink's pheno file\n",
      "  help\t\t\tPrints helpful information\n",
      "  read\t\t\tReads data from the SQL database\n",
      "  write\t\t\tWrites data to the SQL database\n",
      "Options:\n",
      "Flags:\n",
      "  -a, --avail\t\tPrints a list of available commands\n",
      "  -O, --opts\t\tPrints a list of available options\n",
      "  -h, --help\t\tPrints this message\n",
      "  -v, --version\t\tPrints the program version\n",
      "\n",
      " '\u001b[1mmapgd help\u001b[0m \u001b[4mCOMMAND\u001b[0m' will print the manual page for that\n",
      "command, e.g. \u001b[1mmapdg help genotype\u001b[0m will show general information for the\n",
      "genotype command. \u001b[1mmapgd help\u001b[0m \u001b[4mCOLUMN NAME\u001b[0m will give information\n",
      "about the column names that appear in the first two lines of files.\n"
     ]
    }
   ],
   "source": [
    "mapgd -h "
   ]
  },
  {
   "cell_type": "markdown",
   "metadata": {},
   "source": [
    "## Gist This"
   ]
  },
  {
   "cell_type": "code",
   "execution_count": 14,
   "metadata": {},
   "outputs": [
    {
     "name": "stdout",
     "output_type": "stream",
     "text": [
      "https://gist.github.com/a45a556e5f62ce0c7605b64caa00e2ff\n"
     ]
    }
   ],
   "source": [
    "gister -d 'using MAPGD singularity image' Using_MAPGD_via_Singularity.ipynb"
   ]
  },
  {
   "cell_type": "code",
   "execution_count": null,
   "metadata": {},
   "outputs": [],
   "source": [
    "## Update\n",
    "gister -e https://gist.github.com/a45a556e5f62ce0c7605b64caa00e2ff Using_MAPGD_via_Singularity.ipynb"
   ]
  }
 ],
 "metadata": {
  "kernelspec": {
   "display_name": "Bash",
   "language": "bash",
   "name": "bash"
  },
  "language_info": {
   "codemirror_mode": "shell",
   "file_extension": ".sh",
   "mimetype": "text/x-sh",
   "name": "bash"
  }
 },
 "nbformat": 4,
 "nbformat_minor": 2
}
